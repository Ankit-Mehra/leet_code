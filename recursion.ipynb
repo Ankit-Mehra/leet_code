{
 "cells": [
  {
   "attachments": {},
   "cell_type": "markdown",
   "metadata": {},
   "source": [
    "<img src=\"recursion.jpg\"\n",
    "     alt=\"Recusrion Diagram\"\n",
    "     style=\"float: left; margin-right: 10px;\" />"
   ]
  },
  {
   "cell_type": "code",
   "execution_count": 1,
   "metadata": {},
   "outputs": [
    {
     "name": "stdout",
     "output_type": "stream",
     "text": [
      "3 2 1 1 2 3 "
     ]
    }
   ],
   "source": [
    "def printFun(test):\n",
    " \n",
    "    if (test < 1):\n",
    "        return\n",
    "    else:\n",
    " \n",
    "        print(test, end=\" \")\n",
    "        printFun(test-1)  # statement 2\n",
    "        print(test, end=\" \")\n",
    "        return\n",
    " \n",
    "# Driver Code\n",
    "test = 3\n",
    "printFun(test)"
   ]
  }
 ],
 "metadata": {
  "kernelspec": {
   "display_name": "Python 3",
   "language": "python",
   "name": "python3"
  },
  "language_info": {
   "codemirror_mode": {
    "name": "ipython",
    "version": 3
   },
   "file_extension": ".py",
   "mimetype": "text/x-python",
   "name": "python",
   "nbconvert_exporter": "python",
   "pygments_lexer": "ipython3",
   "version": "3.11.3"
  },
  "orig_nbformat": 4
 },
 "nbformat": 4,
 "nbformat_minor": 2
}
